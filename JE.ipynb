{
 "cells": [
  {
   "cell_type": "code",
   "execution_count": 1,
   "metadata": {},
   "outputs": [],
   "source": [
    "import math\n",
    "import numpy as np\n",
    "import time"
   ]
  },
  {
   "cell_type": "code",
   "execution_count": 2,
   "metadata": {},
   "outputs": [],
   "source": [
    "class NN:\n",
    "    def __init__(self, alpha, etalons, w1, w2, vectors, error, N):\n",
    "        self.alpha = alpha\n",
    "        self.etalons = etalons\n",
    "        self.w1 = w1\n",
    "        self.w2 = w2\n",
    "        self.vectors = vectors\n",
    "        self.error = error\n",
    "        self.N = N\n",
    "        self.vector_after_first_layer = 0\n",
    "        self.vector_after_second_layer = 0"
   ]
  },
  {
   "cell_type": "code",
   "execution_count": 3,
   "metadata": {},
   "outputs": [],
   "source": [
    "def F(S):\n",
    "#     result = np.tanh(S)\n",
    "#     result = 1 / (1 + np.exp(-1*S))\n",
    "    result = S\n",
    "    return result\n",
    "\n",
    "def normalize_m(matrix):\n",
    "    for j in range(matrix.shape[1]):\n",
    "        s = 0\n",
    "        for i in range(matrix.shape[0]):\n",
    "            s += pow(matrix.item((i,j)), 2)\n",
    "        s = math.sqrt(s)\n",
    "        \n",
    "        for i in range(matrix.shape[0]):\n",
    "            matrix.itemset((i, j), matrix.item((i, j)) / s)\n",
    "    return matrix"
   ]
  },
  {
   "cell_type": "code",
   "execution_count": 4,
   "metadata": {},
   "outputs": [],
   "source": [
    "def derivative(vector_p):\n",
    "#     return np.subtract(np.array([1] * vector_p.shape[1]), vector_p * vector_p)\n",
    "    return 1\n",
    "\n",
    "def transform(numset, p, m):\n",
    "    vectors = [[0]*p for j in range(m)]\n",
    "    etalons = [[0] for j in range(m)]\n",
    "    for i in range(m):\n",
    "        vectors[i] = numset[i: i + p]   \n",
    "        etalons[i] = numset[p + i]\n",
    "    return vectors, etalons\n",
    "\n",
    "\n",
    "def transform_pred(numset, p, m):\n",
    "    vectors = [[0]*p for j in range(m)]\n",
    "    for i in range(m):\n",
    "        vectors[i] = numset[i: i + p]   \n",
    "    return vectors\n",
    "\n",
    "\n",
    "def show_result(model, vectors, p, m):\n",
    "    vector_after_first_layer = np.zeros(model.w1.shape[1])\n",
    "    vector_after_second_layer = np.zeros(model.w2.shape[1])\n",
    "\n",
    "    for i, vector in enumerate(vectors):            \n",
    "        vector = np.expand_dims(vector, axis=0)\n",
    "        vector = np.concatenate((vector, vector_after_first_layer, vector_after_second_layer), axis=None)\n",
    "        first_layer = np.matmul(vector, model.w1)\n",
    "        vector_after_first_layer = first_layer\n",
    "        second_layer = np.matmul(vector_after_first_layer, model.w2)\n",
    "    return second_layer[0]"
   ]
  },
  {
   "cell_type": "code",
   "execution_count": 19,
   "metadata": {},
   "outputs": [],
   "source": [
    "def run_epoch(model, step = 0):\n",
    "    time1 = time.time()\n",
    "    while True:\n",
    "        errors = []\n",
    "        vector_after_first_layer = np.zeros(model.w1.shape[1])\n",
    "        vector_after_second_layer = np.zeros(model.w2.shape[1])\n",
    "    \n",
    "        for i, vector in enumerate(model.vectors):            \n",
    "            vector = np.expand_dims(vector, axis=0)\n",
    "#             vector_for_w = vector\n",
    "            vector = np.concatenate((vector, vector_after_first_layer, vector_after_second_layer), axis=None)\n",
    "            first_layer = np.matmul(vector, model.w1)\n",
    "            vector_after_first_layer = F(first_layer)\n",
    "            second_layer = np.matmul(vector_after_first_layer, model.w2)\n",
    "            vector_after_second_layer = F(second_layer)\n",
    "            \n",
    "            d_vector = np.subtract(vector_after_second_layer, model.etalons[i])\n",
    "            model.w1 = model.w1 - model.alpha * (np.transpose(np.expand_dims(vector, axis=0)) * (d_vector * np.transpose(model.w2)))\n",
    "            model.w2 = model.w2 - np.transpose(np.expand_dims(model.alpha * (np.transpose(vector_after_first_layer) * d_vector), axis = 0))\n",
    "            \n",
    "            errors.append(np.sum(d_vector * d_vector / 2))\n",
    "        model.w1 = normalize_m(model.w1)      \n",
    "        model.w2 = normalize_m(model.w2)\n",
    "        \n",
    "        step += 1\n",
    "        sum_error = sum(errors)\n",
    "\n",
    "        if step % 5000 is 0:\n",
    "            time2 = time.time()\n",
    "            print(\"***step time is \", time2 - time1)\n",
    "            print(step, \" \", sum_error)\n",
    "            time1 = time2\n",
    "\n",
    "        if sum_error <= model.error and step > model.N:\n",
    "#             model.vector_after_first_layer = vector_after_first_layer\n",
    "#             model.vector_after_second_layer = vector_after_second_layer\n",
    "            return model"
   ]
  },
  {
   "cell_type": "code",
   "execution_count": 20,
   "metadata": {},
   "outputs": [],
   "source": [
    "# numset = [ 0.5, 1, 1.5, 0.5, 1, 1.5, 0.5, 1 ]\n",
    "# numset = [ 0.01, 0.04, 0.09, 0.16, 0.25, 0.36, 0.49, 0.64 ]\n",
    "# numset = [ 0.001, 0.002, 0.004, 0.008, 0.016, 0.032, 0.064, 0.128 ]\n",
    "# numset = [ 0.1, 0, 0.1, 0, 0.1, 0, 0.1, 0 ]\n",
    "# numset = [ 1, 0, 1, 0, 1, 0, 1, 0 ]\n",
    "# numset = [ 1, 2, 4, 8, 16, 32, 64, 128 ]\n",
    "# numset = [ 0.1, 0.2, 0.3, 0.4, 0.5, 0.6, 0.7, 0.8 ]\n",
    "numset = [ 0.01, 0.01, 0.02, 0.03, 0.05, 0.08, 0.13, 0.21]\n",
    "# numset = [ 1, 0, -1, 0, 1, 0, -1, 0 ]\n",
    "# numset = [ 0.001, 0.002, 0.006, 0.024, 0.12, 0.72, 5.04, 40.32 ]\n",
    "# numset = [1/100, 2/100, 4/100, 8/100, 16/100, 32/100, 64/100]"
   ]
  },
  {
   "cell_type": "code",
   "execution_count": 21,
   "metadata": {},
   "outputs": [
    {
     "name": "stdout",
     "output_type": "stream",
     "text": [
      "***step time is  1.4405369758605957\n",
      "5000   3.917336196760728e-06\n",
      "***step time is  1.3854951858520508\n",
      "10000   9.636851741279102e-07\n",
      "***step time is  1.339289665222168\n",
      "15000   2.5689012372839094e-07\n",
      "***step time is  1.3110311031341553\n",
      "20000   7.356573910275496e-08\n",
      "***step time is  1.47825026512146\n",
      "25000   2.2785713758717802e-08\n",
      "***step time is  1.5802819728851318\n",
      "30000   7.69064272314711e-09\n",
      "***step time is  1.2952017784118652\n",
      "35000   2.8243897352987096e-09\n",
      "***step time is  1.3107187747955322\n",
      "40000   1.114562520393294e-09\n",
      "***step time is  1.3305447101593018\n",
      "45000   4.6399013205022136e-10\n",
      "***step time is  1.6611313819885254\n",
      "50000   2.0018409799562559e-10\n",
      "***step time is  1.7205357551574707\n",
      "55000   8.829757265116153e-11\n",
      "***step time is  1.3136157989501953\n",
      "60000   3.9454958181460694e-11\n",
      "***step time is  1.3590707778930664\n",
      "65000   1.7759957805054962e-11\n",
      "***step time is  1.436324119567871\n",
      "70000   8.026653801271762e-12\n",
      "***step time is  1.3211073875427246\n",
      "75000   3.6354981960610974e-12\n",
      "***step time is  1.382324457168579\n",
      "80000   1.6484565786784135e-12\n",
      "***step time is  1.7685308456420898\n",
      "85000   7.478753237143675e-13\n",
      "***step time is  1.3746774196624756\n",
      "90000   3.3938161988799574e-13\n",
      "***step time is  1.3710110187530518\n",
      "95000   1.5402371447230785e-13\n",
      "***step time is  1.513042688369751\n",
      "100000   6.990271759121334e-14\n"
     ]
    }
   ],
   "source": [
    "error = 1000\n",
    "alpha = 0.1\n",
    "p = 5\n",
    "m = 3\n",
    "N = 100000\n",
    "\n",
    "vectors, etalons = transform(numset, p, m)\n",
    "w1 = np.random.rand(p + m + 1, m) * 2 - 1\n",
    "w2 = np.random.rand(m, 1) * 2 - 1\n",
    "# print(etalons)\n",
    "# print(vectors)\n",
    "model = NN(alpha, etalons, w1, w2, vectors, error, N)\n",
    "model = run_epoch(model)"
   ]
  },
  {
   "cell_type": "code",
   "execution_count": 22,
   "metadata": {},
   "outputs": [
    {
     "name": "stdout",
     "output_type": "stream",
     "text": [
      "[0.03, 0.05, 0.08, 0.13, 0.21]\n",
      "0.3390182793129073\n"
     ]
    }
   ],
   "source": [
    "numset_for_predict = [  0.01, 0.02, 0.03, 0.05, 0.08, 0.13, 0.21]\n",
    "vectors = transform_pred(numset_for_predict, p, m)\n",
    "result = show_result(model, vectors, p, m)\n",
    "print(vectors[m-1])\n",
    "print(result)"
   ]
  },
  {
   "cell_type": "code",
   "execution_count": null,
   "metadata": {},
   "outputs": [],
   "source": []
  }
 ],
 "metadata": {
  "kernelspec": {
   "display_name": "Python 3",
   "language": "python",
   "name": "python3"
  },
  "language_info": {
   "codemirror_mode": {
    "name": "ipython",
    "version": 3
   },
   "file_extension": ".py",
   "mimetype": "text/x-python",
   "name": "python",
   "nbconvert_exporter": "python",
   "pygments_lexer": "ipython3",
   "version": "3.7.4"
  }
 },
 "nbformat": 4,
 "nbformat_minor": 2
}
